{
  "cells": [
    {
      "cell_type": "markdown",
      "metadata": {
        "id": "view-in-github",
        "colab_type": "text"
      },
      "source": [
        "<a href=\"https://colab.research.google.com/github/charliewahl/TaxiDataNY-Analysis/blob/main/SDM_%C3%9C2_solution_logistic_regression.ipynb\" target=\"_parent\"><img src=\"https://colab.research.google.com/assets/colab-badge.svg\" alt=\"Open In Colab\"/></a>"
      ]
    },
    {
      "cell_type": "markdown",
      "metadata": {
        "id": "YHrlQn6yI9-F"
      },
      "source": [
        "# Principles of Spatial Date Mining and Machine WS2022/2023 \n",
        "# Lectuer team: Martin Werner, Hao Li"
      ]
    },
    {
      "cell_type": "markdown",
      "metadata": {
        "id": "CR7RK0M903EU"
      },
      "source": [
        "## Regression Excercise Part 2"
      ]
    },
    {
      "cell_type": "markdown",
      "metadata": {
        "id": "7kn6_WDS03Eg"
      },
      "source": [
        "In this exercise, we will try to implement logistic regression with the breast cancer Wisconsin (diagnostic) dataset, which is about the relationship between ten real-valued feature of a breast mass and cancer diagnostic results (yes or no):\n",
        "\n",
        "- radius (mean of distances from center to points on the perimeter)\n",
        "- texture (standard deviation of gray-scale values)\n",
        "- perimeter\n",
        "- area\n",
        "- smoothness (local variation in radius lengths)\n",
        "- compactness (perimeter^2 / area - 1.0)\n",
        "- concavity (severity of concave portions of the contour)\n",
        "- concave points (number of concave portions of the contour)\n",
        "- symmetry\n",
        "- fractal dimension (\"coastline approximation\" - 1)\n",
        "\n",
        "First, we would load the datasets together, do some basic data exploration, and split the entire datasets into train and test. \n",
        "\n",
        "Then, there is one major task for you in this excercise:\n",
        "\n",
        "- Build the logistic regression model between different varaible and the binary diagnostic results; \n",
        "- Apply the trained model in test dataset, and visualize the logistic regression probabilities;\n",
        "- Calculate the confusion matrix and accuracy in the test dataset.\n"
      ]
    },
    {
      "cell_type": "markdown",
      "metadata": {
        "id": "ZTVGQJGyI9-K"
      },
      "source": [
        "## Example Code:"
      ]
    },
    {
      "cell_type": "code",
      "execution_count": null,
      "metadata": {
        "id": "6QPfv0ki03Eh"
      },
      "outputs": [],
      "source": [
        "import numpy as np\n",
        "import pandas as pd\n",
        "from sklearn.model_selection import train_test_split\n",
        "from sklearn.linear_model import LogisticRegression\n",
        "from sklearn import metrics\n",
        "import seaborn as sn\n",
        "import matplotlib.pyplot as plt\n",
        "\n",
        "%matplotlib inline"
      ]
    },
    {
      "cell_type": "code",
      "execution_count": null,
      "metadata": {
        "colab": {
          "base_uri": "https://localhost:8080/",
          "height": 384
        },
        "id": "E9_ycvLR03Em",
        "outputId": "72f7190f-fa08-40e3-c8dc-6d27e55175e3"
      },
      "outputs": [
        {
          "name": "stdout",
          "output_type": "stream",
          "text": [
            "     Unnamed: 0        id  diagnosis  radius_mean  texture_mean  \\\n",
            "0             0    842302          1        17.99         10.38   \n",
            "1             1    842517          1        20.57         17.77   \n",
            "2             2  84300903          1        19.69         21.25   \n",
            "3             3  84348301          1        11.42         20.38   \n",
            "4             4  84358402          1        20.29         14.34   \n",
            "..          ...       ...        ...          ...           ...   \n",
            "564         564    926424          1        21.56         22.39   \n",
            "565         565    926682          1        20.13         28.25   \n",
            "566         566    926954          1        16.60         28.08   \n",
            "567         567    927241          1        20.60         29.33   \n",
            "568         568     92751          0         7.76         24.54   \n",
            "\n",
            "     perimeter_mean  area_mean  smoothness_mean  compactness_mean  \\\n",
            "0            122.80     1001.0          0.11840           0.27760   \n",
            "1            132.90     1326.0          0.08474           0.07864   \n",
            "2            130.00     1203.0          0.10960           0.15990   \n",
            "3             77.58      386.1          0.14250           0.28390   \n",
            "4            135.10     1297.0          0.10030           0.13280   \n",
            "..              ...        ...              ...               ...   \n",
            "564          142.00     1479.0          0.11100           0.11590   \n",
            "565          131.20     1261.0          0.09780           0.10340   \n",
            "566          108.30      858.1          0.08455           0.10230   \n",
            "567          140.10     1265.0          0.11780           0.27700   \n",
            "568           47.92      181.0          0.05263           0.04362   \n",
            "\n",
            "     concavity_mean  ...  texture_worst  perimeter_worst  area_worst  \\\n",
            "0           0.30010  ...          17.33           184.60      2019.0   \n",
            "1           0.08690  ...          23.41           158.80      1956.0   \n",
            "2           0.19740  ...          25.53           152.50      1709.0   \n",
            "3           0.24140  ...          26.50            98.87       567.7   \n",
            "4           0.19800  ...          16.67           152.20      1575.0   \n",
            "..              ...  ...            ...              ...         ...   \n",
            "564         0.24390  ...          26.40           166.10      2027.0   \n",
            "565         0.14400  ...          38.25           155.00      1731.0   \n",
            "566         0.09251  ...          34.12           126.70      1124.0   \n",
            "567         0.35140  ...          39.42           184.60      1821.0   \n",
            "568         0.00000  ...          30.37            59.16       268.6   \n",
            "\n",
            "     smoothness_worst  compactness_worst  concavity_worst  \\\n",
            "0             0.16220            0.66560           0.7119   \n",
            "1             0.12380            0.18660           0.2416   \n",
            "2             0.14440            0.42450           0.4504   \n",
            "3             0.20980            0.86630           0.6869   \n",
            "4             0.13740            0.20500           0.4000   \n",
            "..                ...                ...              ...   \n",
            "564           0.14100            0.21130           0.4107   \n",
            "565           0.11660            0.19220           0.3215   \n",
            "566           0.11390            0.30940           0.3403   \n",
            "567           0.16500            0.86810           0.9387   \n",
            "568           0.08996            0.06444           0.0000   \n",
            "\n",
            "     concave points_worst  symmetry_worst  fractal_dimension_worst  \\\n",
            "0                  0.2654          0.4601                  0.11890   \n",
            "1                  0.1860          0.2750                  0.08902   \n",
            "2                  0.2430          0.3613                  0.08758   \n",
            "3                  0.2575          0.6638                  0.17300   \n",
            "4                  0.1625          0.2364                  0.07678   \n",
            "..                    ...             ...                      ...   \n",
            "564                0.2216          0.2060                  0.07115   \n",
            "565                0.1628          0.2572                  0.06637   \n",
            "566                0.1418          0.2218                  0.07820   \n",
            "567                0.2650          0.4087                  0.12400   \n",
            "568                0.0000          0.2871                  0.07039   \n",
            "\n",
            "     Unnamed: 32  \n",
            "0            NaN  \n",
            "1            NaN  \n",
            "2            NaN  \n",
            "3            NaN  \n",
            "4            NaN  \n",
            "..           ...  \n",
            "564          NaN  \n",
            "565          NaN  \n",
            "566          NaN  \n",
            "567          NaN  \n",
            "568          NaN  \n",
            "\n",
            "[569 rows x 34 columns]\n"
          ]
        }
      ],
      "source": [
        "# load the dataset\n",
        "cancer_data = pd.read_csv('breast_cancer_wisconsin.csv')\n",
        "\n",
        "# Print out the data\n",
        "print(cancer_data)"
      ]
    },
    {
      "cell_type": "code",
      "execution_count": null,
      "metadata": {
        "id": "kNlqDW8A03Eo"
      },
      "outputs": [],
      "source": [
        "# Define a set of independent variables and the targe binary label\n",
        "\n",
        "x = cancer_data[['radius_mean', 'texture_mean']]\n",
        "y = cancer_data['diagnosis']"
      ]
    },
    {
      "cell_type": "code",
      "execution_count": null,
      "metadata": {
        "colab": {
          "base_uri": "https://localhost:8080/",
          "height": 238
        },
        "id": "KGJ-y8W903Ep",
        "outputId": "b4887e80-6e34-4b44-d58f-b7210fb951a0"
      },
      "outputs": [
        {
          "name": "stdout",
          "output_type": "stream",
          "text": [
            "(455, 2)\n",
            "(455,)\n",
            "(114, 2)\n",
            "(114,)\n"
          ]
        }
      ],
      "source": [
        "# Split the boston hoursing dataset into training and testing \n",
        "\n",
        "ratio = 0.2 # split ratio\n",
        "x_train,x_test,y_train,y_test = train_test_split(x,y,test_size=ratio,random_state=5)\n",
        "\n",
        "# Print the size of train and test dataset\n",
        "\n",
        "print(x_train.shape)\n",
        "print(y_train.shape)\n",
        "print(x_test.shape)\n",
        "print(y_test.shape)"
      ]
    },
    {
      "cell_type": "markdown",
      "metadata": {
        "id": "EEDbuV_P03Er"
      },
      "source": [
        "## Now, it is your turn!"
      ]
    },
    {
      "cell_type": "markdown",
      "metadata": {
        "id": "LdP2peio03Et"
      },
      "source": [
        "### Task No.1: build the logstic regression model and calculate the confusion matrix and classification accuracy"
      ]
    },
    {
      "cell_type": "code",
      "execution_count": null,
      "metadata": {
        "id": "fok6a4Q-7AG1"
      },
      "outputs": [],
      "source": [
        "# Build a logistic regression model\n",
        "logistic_regression= LogisticRegression()"
      ]
    },
    {
      "cell_type": "markdown",
      "metadata": {
        "id": "NYvupIMp7HcZ"
      },
      "source": [
        "### Q1.1: fit the model with the train data"
      ]
    },
    {
      "cell_type": "code",
      "execution_count": null,
      "metadata": {
        "id": "wtFyA_TC03Eu",
        "outputId": "dc72b632-d819-4b2b-cf70-77d23fb40307"
      },
      "outputs": [
        {
          "name": "stderr",
          "output_type": "stream",
          "text": [
            "C:\\Users\\haoli\\Anaconda3\\lib\\site-packages\\sklearn\\linear_model\\logistic.py:432: FutureWarning: Default solver will be changed to 'lbfgs' in 0.22. Specify a solver to silence this warning.\n",
            "  FutureWarning)\n"
          ]
        },
        {
          "data": {
            "text/plain": [
              "LogisticRegression(C=1.0, class_weight=None, dual=False, fit_intercept=True,\n",
              "                   intercept_scaling=1, l1_ratio=None, max_iter=100,\n",
              "                   multi_class='warn', n_jobs=None, penalty='l2',\n",
              "                   random_state=None, solver='warn', tol=0.0001, verbose=0,\n",
              "                   warm_start=False)"
            ]
          },
          "execution_count": 62,
          "metadata": {},
          "output_type": "execute_result"
        }
      ],
      "source": [
        "# tipcs: now you have a LR model, just fit it with your training feature and labels\n",
        "logistic_regression.fit(x_train,y_train)"
      ]
    },
    {
      "cell_type": "markdown",
      "metadata": {
        "id": "kEgnoDio7ocB"
      },
      "source": [
        "### Q1.2: make the predication"
      ]
    },
    {
      "cell_type": "code",
      "execution_count": null,
      "metadata": {
        "id": "_G71gLkJ7iPU"
      },
      "outputs": [],
      "source": [
        "# tips: use the lR model with .predict function on testing dataset\n",
        "y_pred=logistic_regression.predict(x_test)"
      ]
    },
    {
      "cell_type": "markdown",
      "metadata": {
        "id": "2c4nYpzjI9-U"
      },
      "source": [
        "### Q1.2: visualize the predication"
      ]
    },
    {
      "cell_type": "code",
      "execution_count": null,
      "metadata": {
        "id": "lP_l7G4lI9-U",
        "outputId": "6c70362a-01f4-46ec-babc-c63b213a2c53"
      },
      "outputs": [
        {
          "data": {
            "text/plain": [
              "<matplotlib.legend.Legend at 0x1d8f2d10e08>"
            ]
          },
          "execution_count": 64,
          "metadata": {},
          "output_type": "execute_result"
        },
        {
          "data": {
            "image/png": "[encoded data removed]",
            "text/plain": [
              "<Figure size 432x288 with 1 Axes>"
            ]
          },
          "metadata": {
            "needs_background": "light"
          },
          "output_type": "display_data"
        }
      ],
      "source": [
        "# tips: visualize the binary diagnostic prediction w.r.t the 'radium_mean' feature\n",
        "y_pred = y_pred.squeeze()\n",
        "x_test_view = x_test['radius_mean'].values.squeeze()\n",
        "sn.scatterplot(x = x_test_view, y = y_pred, hue = y_test)\n",
        "plt.xlabel('Radius')\n",
        "plt.ylabel('Predicted')\n",
        "plt.legend()"
      ]
    },
    {
      "cell_type": "code",
      "execution_count": null,
      "metadata": {
        "id": "7n9maBGnI9-U",
        "outputId": "d825f8c4-9c7a-4236-b144-a4566e4fd4a8"
      },
      "outputs": [
        {
          "data": {
            "text/plain": [
              "<matplotlib.axes._subplots.AxesSubplot at 0x1d8f2e07b48>"
            ]
          },
          "execution_count": 65,
          "metadata": {},
          "output_type": "execute_result"
        },
        {
          "data": {
            "image/png": "[encoded data removed]",
            "text/plain": [
              "<Figure size 432x288 with 1 Axes>"
            ]
          },
          "metadata": {
            "needs_background": "light"
          },
          "output_type": "display_data"
        }
      ],
      "source": [
        "# tips: now use the LR model with .predict_proba function to caluclcate the probabilities of the binary diagnostic prediction\n",
        "y_prob = logistic_regression.predict_proba(x_test)\n",
        "sn.scatterplot(x = x_test_view, y = y_prob[:,1], hue = y_test)"
      ]
    },
    {
      "cell_type": "markdown",
      "metadata": {
        "id": "96UvrhqYI9-V"
      },
      "source": [
        "### Q1.3: calulate the confusion matrix based on crosstab from pandas and print"
      ]
    },
    {
      "cell_type": "code",
      "execution_count": null,
      "metadata": {
        "id": "twmXOGj703Ew",
        "outputId": "2b4c4739-33a6-4333-c599-48a35d42a4e9"
      },
      "outputs": [
        {
          "name": "stdout",
          "output_type": "stream",
          "text": [
            "Predicted   0   1\n",
            "Actual           \n",
            "0          66   0\n",
            "1          11  37\n"
          ]
        }
      ],
      "source": [
        "# tips: add y_test and y_pred as argument to the pd.crosstab() function\n",
        "confusion_matrix = pd.crosstab(y_test, y_pred, rownames=['Actual'], colnames=['Predicted'])\n",
        "print(confusion_matrix)\n"
      ]
    },
    {
      "cell_type": "markdown",
      "metadata": {
        "id": "1_9xN-iRI9-V"
      },
      "source": [
        "### Q1.4: visualize the confusion matrix using the heatmap() function in seaborn"
      ]
    },
    {
      "cell_type": "code",
      "execution_count": null,
      "metadata": {
        "id": "OTady2WQ03Ez",
        "outputId": "cc6de4fd-c681-4a0a-b8db-17ce3dfd18f5"
      },
      "outputs": [
        {
          "data": {
            "text/plain": [
              "Text(0.5, 15.0, 'Predicted label')"
            ]
          },
          "execution_count": 49,
          "metadata": {},
          "output_type": "execute_result"
        },
        {
          "data": {
            "image/png": "[encoded data removed]",
            "text/plain": [
              "<Figure size 432x288 with 2 Axes>"
            ]
          },
          "metadata": {
            "needs_background": "light"
          },
          "output_type": "display_data"
        }
      ],
      "source": [
        "akws = {\"ha\": 'left',\"va\": 'top'}\n",
        "sn.heatmap(confusion_matrix, annot=True, annot_kws=akws, cmap=\"YlGnBu\" ,fmt='g')\n",
        "plt.tight_layout()\n",
        "plt.title('Confusion matrix', y=1.1)\n",
        "plt.ylabel('Actual label')\n",
        "plt.xlabel('Predicted label')"
      ]
    },
    {
      "cell_type": "markdown",
      "metadata": {
        "id": "jN7CIxHfI9-W"
      },
      "source": [
        "### Q1.5: calculate the accuracy, precision, recall using the prediction results and print the results"
      ]
    },
    {
      "cell_type": "code",
      "execution_count": null,
      "metadata": {
        "id": "kkl5JRUHI9-W"
      },
      "outputs": [],
      "source": [
        "# Tips:use the accuracy_score(),precision_score(),recall_score() functions in metrics, for example metrics.accuracy(XXXX,XXXX)"
      ]
    },
    {
      "cell_type": "code",
      "execution_count": null,
      "metadata": {
        "id": "xqY3smV6I9-W",
        "outputId": "6b6d508e-dd28-463b-8c7c-b6026513c896"
      },
      "outputs": [
        {
          "name": "stdout",
          "output_type": "stream",
          "text": [
            "Accuracy: 0.9035087719298246\n",
            "Precision: 1.0\n",
            "Recall: 0.7708333333333334\n"
          ]
        }
      ],
      "source": [
        "accuracy = metrics.accuracy_score(y_test, y_pred)\n",
        "precision = metrics.precision_score(y_test, y_pred)\n",
        "recall = metrics.recall_score(y_test, y_pred)\n",
        "\n",
        "print(\"Accuracy:\",accuracy)\n",
        "print(\"Precision:\",precision)\n",
        "print(\"Recall:\",recall)"
      ]
    },
    {
      "cell_type": "markdown",
      "metadata": {
        "id": "DBW2R9W6I9-W"
      },
      "source": [
        "# Well Done! Now you manage the logistic regression! "
      ]
    }
  ],
  "metadata": {
    "colab": {
      "provenance": [],
      "include_colab_link": true
    },
    "kernelspec": {
      "display_name": "Python 3",
      "language": "python",
      "name": "python3"
    },
    "language_info": {
      "codemirror_mode": {
        "name": "ipython",
        "version": 3
      },
      "file_extension": ".py",
      "mimetype": "text/x-python",
      "name": "python",
      "nbconvert_exporter": "python",
      "pygments_lexer": "ipython3",
      "version": "3.7.4"
    }
  },
  "nbformat": 4,
  "nbformat_minor": 0
}